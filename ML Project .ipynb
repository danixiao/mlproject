{
 "cells": [
  {
   "cell_type": "code",
   "execution_count": 9,
   "metadata": {},
   "outputs": [
    {
     "name": "stderr",
     "output_type": "stream",
     "text": [
      "┌ Info: Recompiling stale cache file C:\\Users\\Danying Xiao\\.julia\\compiled\\v1.2\\Plots\\ld3vC.ji for Plots [91a5bcdd-55d7-5caf-9e0b-520d859cae80]\n",
      "└ @ Base loading.jl:1240\n"
     ]
    }
   ],
   "source": [
    "using JuMP, Gurobi, CSV, DataFrames, Statistics, Plots, Random\n",
    "#LinearAlgebra, StatsBase, StatsBase, DelimitedFiles\n",
    "# genv = Gurobi.Env();"
   ]
  },
  {
   "cell_type": "code",
   "execution_count": 2,
   "metadata": {},
   "outputs": [
    {
     "data": {
      "text/html": [
       "<table class=\"data-frame\"><thead><tr><th></th><th>stay_date</th><th>x1</th></tr><tr><th></th><th>Dates…</th><th>Int64</th></tr></thead><tbody><p>240 rows × 2 columns</p><tr><th>1</th><td>2014-04-10</td><td>17</td></tr><tr><th>2</th><td>2014-04-11</td><td>17</td></tr><tr><th>3</th><td>2014-04-12</td><td>43</td></tr><tr><th>4</th><td>2014-04-13</td><td>43</td></tr><tr><th>5</th><td>2013-06-30</td><td>919</td></tr><tr><th>6</th><td>2013-07-01</td><td>702</td></tr><tr><th>7</th><td>2013-09-04</td><td>198</td></tr><tr><th>8</th><td>2013-09-05</td><td>100</td></tr><tr><th>9</th><td>2013-09-06</td><td>66</td></tr><tr><th>10</th><td>2013-07-21</td><td>420</td></tr><tr><th>11</th><td>2013-07-22</td><td>324</td></tr><tr><th>12</th><td>2013-07-23</td><td>184</td></tr><tr><th>13</th><td>2013-07-24</td><td>213</td></tr><tr><th>14</th><td>2013-07-19</td><td>449</td></tr><tr><th>15</th><td>2013-07-20</td><td>526</td></tr><tr><th>16</th><td>2013-07-08</td><td>330</td></tr><tr><th>17</th><td>2013-07-09</td><td>228</td></tr><tr><th>18</th><td>2013-07-10</td><td>114</td></tr><tr><th>19</th><td>2013-07-11</td><td>289</td></tr><tr><th>20</th><td>2013-08-11</td><td>351</td></tr><tr><th>21</th><td>2013-06-09</td><td>406</td></tr><tr><th>22</th><td>2013-06-10</td><td>248</td></tr><tr><th>23</th><td>2013-06-28</td><td>556</td></tr><tr><th>24</th><td>2013-06-29</td><td>865</td></tr><tr><th>25</th><td>2013-12-30</td><td>74</td></tr><tr><th>26</th><td>2013-12-31</td><td>88</td></tr><tr><th>27</th><td>2014-01-01</td><td>107</td></tr><tr><th>28</th><td>2013-06-14</td><td>684</td></tr><tr><th>29</th><td>2013-07-26</td><td>402</td></tr><tr><th>30</th><td>2013-07-27</td><td>472</td></tr><tr><th>&vellip;</th><td>&vellip;</td><td>&vellip;</td></tr></tbody></table>"
      ],
      "text/latex": [
       "\\begin{tabular}{r|cc}\n",
       "\t& stay\\_date & x1\\\\\n",
       "\t\\hline\n",
       "\t& Dates… & Int64\\\\\n",
       "\t\\hline\n",
       "\t1 & 2014-04-10 & 17 \\\\\n",
       "\t2 & 2014-04-11 & 17 \\\\\n",
       "\t3 & 2014-04-12 & 43 \\\\\n",
       "\t4 & 2014-04-13 & 43 \\\\\n",
       "\t5 & 2013-06-30 & 919 \\\\\n",
       "\t6 & 2013-07-01 & 702 \\\\\n",
       "\t7 & 2013-09-04 & 198 \\\\\n",
       "\t8 & 2013-09-05 & 100 \\\\\n",
       "\t9 & 2013-09-06 & 66 \\\\\n",
       "\t10 & 2013-07-21 & 420 \\\\\n",
       "\t11 & 2013-07-22 & 324 \\\\\n",
       "\t12 & 2013-07-23 & 184 \\\\\n",
       "\t13 & 2013-07-24 & 213 \\\\\n",
       "\t14 & 2013-07-19 & 449 \\\\\n",
       "\t15 & 2013-07-20 & 526 \\\\\n",
       "\t16 & 2013-07-08 & 330 \\\\\n",
       "\t17 & 2013-07-09 & 228 \\\\\n",
       "\t18 & 2013-07-10 & 114 \\\\\n",
       "\t19 & 2013-07-11 & 289 \\\\\n",
       "\t20 & 2013-08-11 & 351 \\\\\n",
       "\t21 & 2013-06-09 & 406 \\\\\n",
       "\t22 & 2013-06-10 & 248 \\\\\n",
       "\t23 & 2013-06-28 & 556 \\\\\n",
       "\t24 & 2013-06-29 & 865 \\\\\n",
       "\t25 & 2013-12-30 & 74 \\\\\n",
       "\t26 & 2013-12-31 & 88 \\\\\n",
       "\t27 & 2014-01-01 & 107 \\\\\n",
       "\t28 & 2013-06-14 & 684 \\\\\n",
       "\t29 & 2013-07-26 & 402 \\\\\n",
       "\t30 & 2013-07-27 & 472 \\\\\n",
       "\t$\\dots$ & $\\dots$ & $\\dots$ \\\\\n",
       "\\end{tabular}\n"
      ],
      "text/plain": [
       "240×2 DataFrame\n",
       "│ Row │ stay_date  │ x1    │\n",
       "│     │ \u001b[90mDates.Date\u001b[39m │ \u001b[90mInt64\u001b[39m │\n",
       "├─────┼────────────┼───────┤\n",
       "│ 1   │ 2014-04-10 │ 17    │\n",
       "│ 2   │ 2014-04-11 │ 17    │\n",
       "│ 3   │ 2014-04-12 │ 43    │\n",
       "│ 4   │ 2014-04-13 │ 43    │\n",
       "│ 5   │ 2013-06-30 │ 919   │\n",
       "│ 6   │ 2013-07-01 │ 702   │\n",
       "│ 7   │ 2013-09-04 │ 198   │\n",
       "│ 8   │ 2013-09-05 │ 100   │\n",
       "│ 9   │ 2013-09-06 │ 66    │\n",
       "│ 10  │ 2013-07-21 │ 420   │\n",
       "⋮\n",
       "│ 230 │ 2014-03-30 │ 32    │\n",
       "│ 231 │ 2014-03-31 │ 32    │\n",
       "│ 232 │ 2013-12-13 │ 33    │\n",
       "│ 233 │ 2013-12-14 │ 33    │\n",
       "│ 234 │ 2013-12-15 │ 33    │\n",
       "│ 235 │ 2014-03-07 │ 32    │\n",
       "│ 236 │ 2014-03-08 │ 32    │\n",
       "│ 237 │ 2014-03-09 │ 32    │\n",
       "│ 238 │ 2014-03-10 │ 32    │\n",
       "│ 239 │ 2014-03-11 │ 32    │\n",
       "│ 240 │ 2014-03-12 │ 32    │"
      ]
     },
     "execution_count": 2,
     "metadata": {},
     "output_type": "execute_result"
    }
   ],
   "source": [
    "test = CSV.read(\"testv1.csv\")\n",
    "test\n",
    "by(test, :stay_date, nrow)"
   ]
  },
  {
   "cell_type": "markdown",
   "metadata": {},
   "source": [
    "#### Formulation:\n",
    "\n",
    "**Variables:**\n",
    "\n",
    "$m = 38: $ Number of Search Ranks that can be displayed at a Page\n",
    "\n",
    "$n = 100: $ Number of listing-nights\n",
    "\n",
    "$R_k: $ Rank Multiplier, $\\forall k = 1,...,m$\n",
    "\n",
    "$\\alpha: \\% $ of Booking Revenue Expedia receives per Booking\n",
    "\n",
    "$W_a: $ Day of Week Multiplier, $\\forall a = 1,...,7$\n",
    "\n",
    "$M_b: $ Month Multiplier, $\\forall b = 1,...,12$\n",
    "\n",
    "$P_i: $ Price at Listing-night i, $\\forall i = 1,...,n$\n",
    "\n",
    "\n",
    "$\n",
    "\\begin{align}\n",
    " Z_{i,j} = \\begin{cases}\n",
    "    1 &\\text{if listing-night i in hotel group j} \\\\\n",
    "0 &\\text{otherwise}\n",
    "\\end{cases} \\\\\n",
    "\\end{align}\n",
    "$\n",
    "\n",
    "$\\tau(IV_i) $ is the inverse of the demand function which gives the booking probability\n",
    "\n",
    "$\n",
    "\\begin{align}\n",
    " \\tau_c(IV_i) = \\begin{cases}\n",
    "    \\tau_{True} (IV_i) = \\frac{log(\\frac{IV_i}{a_{True}})}{b_{True}}&\\text{where $a_{True}$ and $b_{True}$ are the coefficients of the true demand curve} \\\\\n",
    "\\tau_{OCT} (IV_i) = \\frac{log(\\frac{IV_i}{a_{OCT}})}{b_{OCT}} &\\text{where $a_{OCT}$ and $b_{OCT}$ are the coefficients of the OCT predicted demand curve }\n",
    "\\end{cases} \\\\\n",
    "\\end{align}\n",
    "$\n",
    "\n",
    "Decision Variables:\n",
    "\n",
    "$\n",
    "\\begin{align}\n",
    " X_{i,k} = \\begin{cases}\n",
    "    1 &\\text{if listing-night i is assigned to rank k} \\\\\n",
    "0 &\\text{otherwise}\n",
    "\\end{cases} \\\\\n",
    "\\end{align}\n",
    "$\n",
    "\n",
    "$$ \n",
    "\\begin{align}\n",
    "\\underset{X_{i,k}}{max\\ } & \\alpha \\sum_i^n \\left[P_i\\times\\tau_c(IV_i)\\times\\sum_k^n (R_kX_{i,k})  \\right]  \\\\\n",
    "\\text{s.t. } & IV_i = \\frac{P_i}{W_aM_b} \\forall i = 1,...,n \\ \\ \\ &\\text{(i)}\\\\\n",
    "             & \\sum_i^n X_{i,k} = 1, \\forall k =1,...,m \\ \\ \\ &\\text{(ii)}\\\\\n",
    "             & \\sum_k^n X_{i,k} <= 1, \\forall i =1,...,n\\ \\ \\ &\\text{(iii)}\\\\\n",
    "             & \\sum_i^n\\sum_k^{10} X_{i,k}Z_{i,j} >=1, \\forall j=1,...,p \\ \\ \\ &\\text{(iv)}\\\\\n",
    "             & \\text{where p is the number of hotel clusters}\n",
    "\\end{align}\n",
    "$$"
   ]
  },
  {
   "cell_type": "code",
   "execution_count": 3,
   "metadata": {},
   "outputs": [
    {
     "data": {
      "text/plain": [
       "7-element CSV.Column{Float64,Float64}:\n",
       " 1.0               \n",
       " 0.9707128970695779\n",
       " 0.9671885422797728\n",
       " 1.052249042374722 \n",
       " 1.2525982712242012\n",
       " 1.296769824495693 \n",
       " 1.1086168550505864"
      ]
     },
     "execution_count": 3,
     "metadata": {},
     "output_type": "execute_result"
    }
   ],
   "source": [
    "#Load in data\n",
    "rank_mult = CSV.read(\"rank_multv1.csv\", header=1); #Vector of search rank multipliers of p by 1\n",
    "rank_mult = rank_mult[!,2]\n",
    "\n",
    "month_mult = CSV.read(\"month_multv1.csv\", header=1); #Vector of monthly multipliers of 12 by 1\n",
    "month_mult = month_mult[!,2]\n",
    "\n",
    "week_mult = CSV.read(\"week_multv1.csv\", header=1); #Vector of day of week multipliers of 7 by 1\n",
    "week_mult = week_mult[!,2]"
   ]
  },
  {
   "cell_type": "code",
   "execution_count": 4,
   "metadata": {},
   "outputs": [
    {
     "data": {
      "text/plain": [
       "demandF (generic function with 1 method)"
      ]
     },
     "execution_count": 4,
     "metadata": {},
     "output_type": "execute_result"
    }
   ],
   "source": [
    "#function to get intrinsic px\n",
    "function intrinsicF(listing_px_i,mth_mult,week_mult)\n",
    "    return listing_px * mth_mult * week_mult\n",
    "end\n",
    "\n",
    "#demand function\n",
    "function demandF(iv,pred_true,group)\n",
    "    if pred_true == 1\n",
    "        if group == 0\n",
    "            a = 305.27417277; b= -12.42761648;\n",
    "        elseif group == 1\n",
    "            a = 253.54593267; b= -37.53117532;\n",
    "        elseif group == 2\n",
    "            a = 185.43176503; b= -29.15210551;\n",
    "        elseif group == 3\n",
    "            a = 182.44087022; b= -33.85116882;\n",
    "        else\n",
    "            a = 190.07289677; b= -39.04852811;\n",
    "        end\n",
    "    else\n",
    "        if group == 0\n",
    "            a = 233.41661873; b= -41.25055808;\n",
    "        elseif group == 1\n",
    "            a = 379.40583405; b= -37.19840181;\n",
    "        elseif group == 2\n",
    "            a = 415.46424746; b= -66.78216454;\n",
    "        elseif group == 3\n",
    "            a = 301.73547847; b= -27.51108341;\n",
    "        else\n",
    "            a = 161.44049996; b= -12.48533166;\n",
    "        end\n",
    "    end\n",
    "    booking_prob = log(iv/a)/b\n",
    "    return booking_prob\n",
    "end"
   ]
  },
  {
   "cell_type": "code",
   "execution_count": 10,
   "metadata": {},
   "outputs": [
    {
     "data": {
      "text/plain": [
       "50-element Array{Float64,1}:\n",
       "  92.0 \n",
       " 119.0 \n",
       "  83.0 \n",
       "  49.0 \n",
       "  59.0 \n",
       " 151.0 \n",
       " 136.0 \n",
       "  33.0 \n",
       "  52.0 \n",
       "  55.0 \n",
       " 249.0 \n",
       "  98.04\n",
       " 320.96\n",
       "   ⋮   \n",
       "  86.0 \n",
       " 259.0 \n",
       "  80.36\n",
       " 160.41\n",
       " 262.17\n",
       "  87.23\n",
       "  33.04\n",
       " 199.17\n",
       " 135.01\n",
       "  85.55\n",
       " 165.75\n",
       " 245.96"
      ]
     },
     "execution_count": 10,
     "metadata": {},
     "output_type": "execute_result"
    }
   ],
   "source": [
    "LP_0 = test[test.Hotel_Group .== 0,:].price_usd;\n",
    "LP_1 = test[test.Hotel_Group .== 1,:].price_usd;\n",
    "LP_2 = test[test.Hotel_Group .== 2,:].price_usd;\n",
    "LP_3 = test[test.Hotel_Group .== 3,:].price_usd;\n",
    "LP_4 = test[test.Hotel_Group .== 4,:].price_usd;\n",
    "shuffle!(LP_0); shuffle!(LP_1); shuffle!(LP_2); shuffle!(LP_3); shuffle!(LP_4);\n",
    "sample = vcat(LP_0[1:10], LP_1[1:10], LP_2[1:10], LP_3[1:10],LP_4[1:10]) #Sample Listing Prices"
   ]
  },
  {
   "cell_type": "code",
   "execution_count": 6,
   "metadata": {},
   "outputs": [
    {
     "data": {
      "text/plain": [
       "6"
      ]
     },
     "execution_count": 6,
     "metadata": {},
     "output_type": "execute_result"
    }
   ],
   "source": [
    "n = 50\n",
    "M1 = zeros(n,5)\n",
    "[M1[i,1] = 1 for i=1:10]; [M1[i,2] = 1 for i=11:20]; [M1[i,3] = 1 for i=21:30]; [M1[i,4] = 1 for i=31:40]; \n",
    "[M1[i,5] = 1 for i=41:50];\n",
    "\n",
    "M2 = 5 # May\n",
    "M3 = 6 # Sunday"
   ]
  },
  {
   "cell_type": "code",
   "execution_count": 24,
   "metadata": {},
   "outputs": [
    {
     "name": "stdout",
     "output_type": "stream",
     "text": [
      "Academic license - for non-commercial use only\r\n"
     ]
    },
    {
     "data": {
      "text/plain": [
       "50×38 Array{Float64,2}:\n",
       " -0.0  -0.0  -0.0  -0.0  -0.0  -0.0  …  -0.0  -0.0  -0.0  -0.0  -0.0  -0.0\n",
       " -0.0  -0.0  -0.0  -0.0  -0.0  -0.0     -0.0  -0.0  -0.0  -0.0  -0.0  -0.0\n",
       " -0.0  -0.0  -0.0  -0.0  -0.0  -0.0     -0.0  -0.0  -0.0  -0.0  -0.0  -0.0\n",
       " -0.0  -0.0  -0.0  -0.0   0.0   1.0     -0.0  -0.0  -0.0  -0.0  -0.0  -0.0\n",
       "  0.0   1.0  -0.0  -0.0  -0.0  -0.0     -0.0  -0.0  -0.0  -0.0  -0.0  -0.0\n",
       " -0.0  -0.0  -0.0  -0.0  -0.0  -0.0  …  -0.0  -0.0  -0.0  -0.0  -0.0  -0.0\n",
       " -0.0  -0.0  -0.0  -0.0  -0.0  -0.0     -0.0  -0.0  -0.0  -0.0  -0.0  -0.0\n",
       " -0.0  -0.0  -0.0  -0.0  -0.0  -0.0     -0.0  -0.0  -0.0  -0.0  -0.0  -0.0\n",
       " -0.0  -0.0  -0.0   0.0   1.0  -0.0     -0.0  -0.0  -0.0  -0.0  -0.0  -0.0\n",
       " -0.0   0.0   1.0  -0.0  -0.0  -0.0     -0.0  -0.0  -0.0  -0.0  -0.0  -0.0\n",
       " -0.0  -0.0  -0.0  -0.0  -0.0  -0.0  …  -0.0  -0.0  -0.0  -0.0  -0.0  -0.0\n",
       " -0.0  -0.0  -0.0  -0.0  -0.0  -0.0     -0.0  -0.0  -0.0  -0.0  -0.0  -0.0\n",
       " -0.0  -0.0  -0.0  -0.0  -0.0  -0.0     -0.0  -0.0  -0.0  -0.0  -0.0  -0.0\n",
       "  ⋮                             ⋮    ⋱                     ⋮              \n",
       " -0.0  -0.0  -0.0  -0.0  -0.0  -0.0     -0.0  -0.0  -0.0  -0.0  -0.0  -0.0\n",
       " -0.0  -0.0  -0.0  -0.0  -0.0  -0.0     -0.0  -0.0  -0.0   0.0   1.0  -0.0\n",
       " -0.0  -0.0  -0.0  -0.0  -0.0  -0.0  …  -0.0  -0.0  -0.0   0.0  -0.0  -0.0\n",
       " -0.0  -0.0  -0.0  -0.0  -0.0  -0.0     -0.0  -0.0  -0.0  -0.0  -0.0  -0.0\n",
       " -0.0  -0.0  -0.0  -0.0  -0.0  -0.0     -0.0  -0.0   0.0   0.0  -0.0   1.0\n",
       " -0.0  -0.0  -0.0  -0.0  -0.0  -0.0     -0.0  -0.0   1.0  -0.0  -0.0  -0.0\n",
       " -0.0  -0.0  -0.0  -0.0  -0.0  -0.0      1.0  -0.0   0.0  -0.0  -0.0  -0.0\n",
       " -0.0  -0.0  -0.0  -0.0  -0.0  -0.0  …   0.0  -0.0  -0.0  -0.0  -0.0  -0.0\n",
       " -0.0  -0.0  -0.0  -0.0  -0.0  -0.0     -0.0  -0.0  -0.0  -0.0  -0.0  -0.0\n",
       " -0.0  -0.0  -0.0  -0.0  -0.0  -0.0     -0.0   0.0  -0.0  -0.0  -0.0  -0.0\n",
       " -0.0  -0.0  -0.0  -0.0  -0.0  -0.0     -0.0   1.0  -0.0  -0.0  -0.0  -0.0\n",
       " -0.0  -0.0  -0.0  -0.0  -0.0  -0.0     -0.0  -0.0  -0.0   1.0   0.0  -0.0"
      ]
     },
     "execution_count": 24,
     "metadata": {},
     "output_type": "execute_result"
    }
   ],
   "source": [
    "#Given listing prices of 100 hotels, rank the hotels so as to maximize total expected revenue for Expedia\n",
    "#Sets: Hotels(listing-night) h C H, for h=1:m. Clusters c C, for c=1:n, Rank r C R, for r=1:p\n",
    "#Params: Demand f(x) D_c(IV_h) from OCT and True, Hotel rank HR_h, \n",
    "\n",
    "m = 50; #100 listing-nights\n",
    "n = 5; #5 clusters\n",
    "p = 38; #38 search results shown\n",
    "s = 0.05; #% of total booking revenue paid to Expedia for each hotel\n",
    "P = sample; #Listing Price of listing-night i. Vector of m by 1\n",
    "M1; #Matrix of m by n. 1 if hotel i belongs to cluster j, 0 o/w\n",
    "M2; #Month of listing-night i\n",
    "M3; #Day_of_week of listing-night i\n",
    "\n",
    "month_mult; #Vector of monthly multipliers. 12 by 1\n",
    "week_mult; #Vector of day of week multipliers. 7 by 1\n",
    "rank_mult; #Vector of search rank multipliers of p by 1\n",
    "\n",
    "mio = Model(solver=GurobiSolver(OutputFlag = 0))\n",
    "    @variable(mio, x[1:m, 1:p], Bin) #Indicator if hotel i is shown in position p\n",
    "    @objective(mio, Max, s * sum(P[i] * demandF(P[i], 0, findall(x->x>0,M1[i,:])) * sum(x[i,k] * rank_mult[k] for k=1:p) for i=1:38)) #Max total rank-weighted revenue for first 38 hotels\n",
    "        \n",
    "    @constraint(mio, [k=1:p], sum(x[i,k] for i=1:m) == 1) #1 hotel per search rank    \n",
    "    @constraint(mio, [i=1:m], sum(x[i,k] for k=1:p) <= 1) #a hotel can only be  rank at most once\n",
    "    @constraint(mio, [j=1:n], sum(x[i,k] * M1[i,j] for k=1:10, i=1:m) >= 1 ) #Diversity: at least 1 hotel from each cluster in top 10 results\n",
    "    solve(mio)\n",
    "    rankmatrix = getvalue(x)\n",
    "    revenue = getobjectivevalue(mio)\n",
    "    return(getvalue(x))"
   ]
  },
  {
   "cell_type": "code",
   "execution_count": 25,
   "metadata": {},
   "outputs": [
    {
     "data": {
      "text/plain": [
       "7.349083381289892"
      ]
     },
     "execution_count": 25,
     "metadata": {},
     "output_type": "execute_result"
    }
   ],
   "source": [
    "revenue"
   ]
  }
 ],
 "metadata": {
  "kernelspec": {
   "display_name": "Julia 1.2.0",
   "language": "julia",
   "name": "julia-1.2"
  },
  "language_info": {
   "file_extension": ".jl",
   "mimetype": "application/julia",
   "name": "julia",
   "version": "1.2.0"
  }
 },
 "nbformat": 4,
 "nbformat_minor": 2
}
